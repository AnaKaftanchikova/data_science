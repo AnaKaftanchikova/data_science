{
 "cells": [
  {
   "cell_type": "code",
   "execution_count": 1,
   "id": "5b87065f-8e00-4eea-964b-3923a18b2617",
   "metadata": {},
   "outputs": [],
   "source": [
    "import data_loader\n",
    "import data_analyze\n",
    "import data_visual\n",
    "import log"
   ]
  },
  {
   "cell_type": "code",
   "execution_count": 3,
   "id": "0afc7e45-af1c-4f2a-899c-10010cfd9608",
   "metadata": {},
   "outputs": [],
   "source": [
    "\"\"\"\n",
    "dataset from https://www.kaggle.com/datasets/kaggle/recipe-ingredients-dataset\n",
    "\"\"\"\n",
    "file_path = \"Food_Recipe.csv\""
   ]
  },
  {
   "cell_type": "code",
   "execution_count": 5,
   "id": "94c2b1c0-5783-403a-ba53-5716847632cb",
   "metadata": {},
   "outputs": [
    {
     "name": "stdout",
     "output_type": "stream",
     "text": [
      "                                                name  \\\n",
      "0  Dim Posto Recipe - Bengali Egg Curry With Popp...   \n",
      "1              Roasted Vegetables Pizza Pouch Recipe   \n",
      "2  Restaurant Style Paneer Butter Masala Recipe |...   \n",
      "3   Shanghai Style Sweet And Spicy Crispy Lotus Stem   \n",
      "4                       Mixed Vegetable Handi Recipe   \n",
      "\n",
      "                                         description               cuisine  \\\n",
      "0  Dim Posto is a delicious Bengali Style Egg Cur...       Bengali Recipes   \n",
      "1  Roasted Vegetables Pizza Pouch is a delicious,...       Italian Recipes   \n",
      "2  Paneer Butter Masala also known as Paneer Maka...  North Indian Recipes   \n",
      "3  Shanghai Style Sweet And Spicy Crispy Lotus St...               Chinese   \n",
      "4  If you feel like eating something exotic, some...  North Indian Recipes   \n",
      "\n",
      "      course         diet                                   ingredients_name  \\\n",
      "0     Dinner   Eggetarian  Whole Eggs, Potatoes (Aloo), Poppy seeds, Home...   \n",
      "1  Appetizer   Vegetarian  Homemade Pizza Dough, Onion, Red Bell pepper (...   \n",
      "2      Lunch   Vegetarian  Paneer (Homemade Cottage Cheese), Tomatoes, Ca...   \n",
      "3  Appetizer  Gluten Free  Lotus root, Garlic, Ginger, Roasted Peanuts (M...   \n",
      "4      Lunch   Vegetarian  Oil, Cumin seeds (Jeera), Bay leaves (tej patt...   \n",
      "\n",
      "                                ingredients_quantity  prep_time (in mins)  \\\n",
      "0  4 Whole Eggs  2 Potatoes (Aloo) , peeled and d...                 30.0   \n",
      "1  1 Homemade Pizza Dough , divided into 10 lemon...                 20.0   \n",
      "2  200 gram Paneer (Homemade Cottage Cheese) , cu...                 20.0   \n",
      "3  4 Lotus root , peeled and cut into 1 cm thick ...                  5.0   \n",
      "4  2 tablespoons Oil  1 tablespoon Cumin seeds (J...                 20.0   \n",
      "\n",
      "   cook_time (in mins)                                       instructions  \\\n",
      "0                 35.0  To begin making Dim Posto Recipe - Bengali Egg...   \n",
      "1                 30.0  To begin making the Roasted Vegetables Pizza P...   \n",
      "2                 40.0  To begin making the Paneer Butter Masala, firs...   \n",
      "3                 25.0  We begin making the Sweet And Spicy Shanghai C...   \n",
      "4                 25.0  To begin making the Mixed Vegetable Handi reci...   \n",
      "\n",
      "                                           image_url  \n",
      "0  https://www.archanaskitchen.com/images/archana...  \n",
      "1  https://www.archanaskitchen.com/images/archana...  \n",
      "2  https://www.archanaskitchen.com/images/archana...  \n",
      "3  https://www.archanaskitchen.com/images/archana...  \n",
      "4  https://www.archanaskitchen.com/images/archana...  \n"
     ]
    }
   ],
   "source": [
    "try:\n",
    "    data = data_loader.load_data_csv(file_path) \n",
    "    log.add_log_info('Чтение файла прошло успешно')\n",
    "except FileNotFoundError:\n",
    "    log.add_log_error('Файл не найден')\n",
    "except Exception as e:\n",
    "    log.add_log_error(f'Произошла ошибка: {e}')\n",
    "finally:\n",
    "    log.add_log_debug('finally_after_load_data_csv')\n",
    "    print(data.head())"
   ]
  },
  {
   "cell_type": "code",
   "execution_count": 7,
   "id": "128e6857-d860-46d5-8c3d-8de50f9a839b",
   "metadata": {},
   "outputs": [
    {
     "name": "stdout",
     "output_type": "stream",
     "text": [
      "Столбцы в наборе данных:\n",
      "Index(['name', 'description', 'cuisine', 'course', 'diet', 'ingredients_name',\n",
      "       'ingredients_quantity', 'prep_time (in mins)', 'cook_time (in mins)',\n",
      "       'instructions', 'image_url'],\n",
      "      dtype='object')\n"
     ]
    },
    {
     "data": {
      "text/plain": [
       "name                     0\n",
       "description              1\n",
       "cuisine                 30\n",
       "course                  92\n",
       "diet                    76\n",
       "ingredients_name         2\n",
       "ingredients_quantity     2\n",
       "prep_time (in mins)     16\n",
       "cook_time (in mins)     16\n",
       "instructions             0\n",
       "image_url                0\n",
       "dtype: int64"
      ]
     },
     "execution_count": 7,
     "metadata": {},
     "output_type": "execute_result"
    }
   ],
   "source": [
    "import pandas as pd\n",
    "import numpy as np\n",
    "from sklearn.model_selection import train_test_split, StratifiedKFold\n",
    "from sklearn.ensemble import (\n",
    "    GradientBoostingClassifier,\n",
    "    AdaBoostClassifier,\n",
    "    ExtraTreesClassifier,\n",
    "    StackingClassifier\n",
    ")\n",
    "from sklearn.tree import DecisionTreeClassifier\n",
    "from sklearn.neighbors import KNeighborsClassifier\n",
    "from sklearn.discriminant_analysis import QuadraticDiscriminantAnalysis\n",
    "from sklearn.svm import SVC\n",
    "from sklearn.linear_model import LogisticRegression\n",
    "from catboost import CatBoostClassifier\n",
    "from xgboost import XGBClassifier\n",
    "from sklearn.preprocessing import LabelEncoder, StandardScaler\n",
    "from sklearn.metrics import classification_report, accuracy_score, confusion_matrix\n",
    "import matplotlib.pyplot as plt\n",
    "import seaborn as sns\n",
    "import warnings\n",
    "from sklearn.feature_extraction.text import TfidfVectorizer\n",
    "\n",
    "# Игнорирование предупреждений (опционально)\n",
    "warnings.filterwarnings('ignore')\n",
    "\n",
    "# Проверка столбцов\n",
    "print(\"Столбцы в наборе данных:\")\n",
    "\n",
    "print(data.columns)\n",
    "\n",
    "is_null = data_analyze.check_data(data)\n",
    "is_null.sum()"
   ]
  },
  {
   "cell_type": "code",
   "execution_count": 9,
   "id": "0c32ac97-f6dc-4853-bec5-3d97e1b19db5",
   "metadata": {},
   "outputs": [],
   "source": [
    "# Разделение столбцов на числовые и категориальные\n",
    "numeric_columns = data.select_dtypes(include=['int64', 'float64']).columns.tolist()\n",
    "categorical_columns = data.select_dtypes(include=['object']).columns.tolist()"
   ]
  },
  {
   "cell_type": "code",
   "execution_count": 11,
   "id": "d736dde6-494d-4329-8e24-2909d7ac7805",
   "metadata": {},
   "outputs": [],
   "source": [
    "# Обработка пропущенных значений для числовых столбцов\n",
    "if data[numeric_columns].isnull().sum().any():\n",
    "    data[numeric_columns] = data[numeric_columns].fillna(data[numeric_columns].median())\n",
    "\n",
    "# Обработка пропущенных значений для категориальных столбцов\n",
    "if data[categorical_columns].isnull().sum().any():\n",
    "    data[categorical_columns] = data[categorical_columns].fillna(data[categorical_columns].mode().iloc[0])"
   ]
  },
  {
   "cell_type": "code",
   "execution_count": 13,
   "id": "fe23692e-8de4-4fe5-9682-cb78e5bd5e98",
   "metadata": {},
   "outputs": [
    {
     "data": {
      "text/plain": [
       "name                    0\n",
       "description             0\n",
       "cuisine                 0\n",
       "course                  0\n",
       "diet                    0\n",
       "ingredients_name        0\n",
       "ingredients_quantity    0\n",
       "prep_time (in mins)     0\n",
       "cook_time (in mins)     0\n",
       "instructions            0\n",
       "image_url               0\n",
       "dtype: int64"
      ]
     },
     "execution_count": 13,
     "metadata": {},
     "output_type": "execute_result"
    }
   ],
   "source": [
    "is_null = data_analyze.check_data(data)\n",
    "is_null.sum()"
   ]
  },
  {
   "cell_type": "code",
   "execution_count": 15,
   "id": "208af2f8-dc1e-48ca-8077-d70389a1d187",
   "metadata": {},
   "outputs": [
    {
     "name": "stdout",
     "output_type": "stream",
     "text": [
      "Кодирование категориальных признаков с использованием LabelEncoder\n"
     ]
    }
   ],
   "source": [
    "# Кодирование категориальных признаков с использованием LabelEncoder\n",
    "label_encoders = {}\n",
    "for column in categorical_columns:\n",
    "    le = LabelEncoder()\n",
    "    data[column] = le.fit_transform(data[column])\n",
    "    label_encoders[column] = le\n",
    "print(\"Кодирование категориальных признаков с использованием LabelEncoder\")"
   ]
  },
  {
   "cell_type": "code",
   "execution_count": 17,
   "id": "246e20e2-2ef3-4d72-9052-7342237b431b",
   "metadata": {},
   "outputs": [],
   "source": [
    "X = data.ingredients_name\n",
    "y = data.cuisine"
   ]
  },
  {
   "cell_type": "code",
   "execution_count": 19,
   "id": "d4868357-825a-4303-b883-c3ac1c3f2ebd",
   "metadata": {},
   "outputs": [
    {
     "name": "stdout",
     "output_type": "stream",
     "text": [
      "Разделение данных на обучающую и тестовую выборки с сохранением пропорций классов\n"
     ]
    }
   ],
   "source": [
    "# Разделение данных на обучающую и тестовую выборки с сохранением пропорций классов\n",
    "X_train, X_test, y_train, y_test = train_test_split(X, y, test_size=0.3, random_state=42)\n",
    "print(\"Разделение данных на обучающую и тестовую выборки с сохранением пропорций классов\")"
   ]
  },
  {
   "cell_type": "code",
   "execution_count": 21,
   "id": "6ea366cb-77cb-44da-909e-70c4bf08beed",
   "metadata": {},
   "outputs": [
    {
     "name": "stdout",
     "output_type": "stream",
     "text": [
      "Определение базовых классификаторов\n"
     ]
    }
   ],
   "source": [
    "# Определение базовых классификаторов\n",
    "base_classifiers = [\n",
    "    ('gradient_boosting', GradientBoostingClassifier(random_state=42)),\n",
    "    ('catboost', CatBoostClassifier(verbose=0, random_state=42)),\n",
    "    ('ada_boost', AdaBoostClassifier(random_state=42)),\n",
    "    ('extra_trees', ExtraTreesClassifier(random_state=42)),\n",
    "    ('quadratic_discriminant', QuadraticDiscriminantAnalysis()),\n",
    "    ('k_neighbors', KNeighborsClassifier()),\n",
    "    ('decision_tree', DecisionTreeClassifier(random_state=42)),\n",
    "    ('xgboost', XGBClassifier(use_label_encoder=False, eval_metric='mlogloss', random_state=42)),\n",
    "    ('svm', SVC(kernel='linear', probability=True, random_state=42))\n",
    "]\n",
    "print(\"Определение базовых классификаторов\")"
   ]
  },
  {
   "cell_type": "code",
   "execution_count": 23,
   "id": "57914ff9-e131-4a97-9bfd-43125c84639c",
   "metadata": {},
   "outputs": [
    {
     "name": "stdout",
     "output_type": "stream",
     "text": [
      "Определение мета-классификатора\n"
     ]
    }
   ],
   "source": [
    "# Определение мета-классификатора\n",
    "meta_classifier = LogisticRegression(random_state=42, max_iter=1000)\n",
    "print(\"Определение мета-классификатора\")"
   ]
  },
  {
   "cell_type": "code",
   "execution_count": null,
   "id": "4d7e2f85-3a03-417e-b4d8-846e9f8ac059",
   "metadata": {},
   "outputs": [],
   "source": []
  }
 ],
 "metadata": {
  "kernelspec": {
   "display_name": "Python [conda env:base] *",
   "language": "python",
   "name": "conda-base-py"
  },
  "language_info": {
   "codemirror_mode": {
    "name": "ipython",
    "version": 3
   },
   "file_extension": ".py",
   "mimetype": "text/x-python",
   "name": "python",
   "nbconvert_exporter": "python",
   "pygments_lexer": "ipython3",
   "version": "3.12.7"
  }
 },
 "nbformat": 4,
 "nbformat_minor": 5
}
