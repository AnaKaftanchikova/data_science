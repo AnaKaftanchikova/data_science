{
 "cells": [
  {
   "cell_type": "code",
   "execution_count": 25,
   "id": "a1340e96-41ea-4da5-a8f5-ecdd436f7ce3",
   "metadata": {},
   "outputs": [
    {
     "data": {
      "text/plain": [
       "('Безлюдное место', 'Саша Сулим', 2023)"
      ]
     },
     "execution_count": 25,
     "metadata": {},
     "output_type": "execute_result"
    }
   ],
   "source": [
    "#13.\tСоздать словарь, содержащий информацию о книге (автор, название, год издания), и вывести эту информацию на экран.\n",
    "\n",
    "books = {\"автор\": \"Саша Сулим\", \"название\": \"Безлюдное место\", \"год издания\": 2023}\n",
    "\n",
    "book_author = books[\"автор\"]\n",
    "book_name = books[\"название\"]\n",
    "book_year = books[\"год издания\"]\n",
    "\n",
    "book_name, book_author, book_year"
   ]
  },
  {
   "cell_type": "code",
   "execution_count": null,
   "id": "7e49b714-e827-47aa-bc16-05acfe35261b",
   "metadata": {},
   "outputs": [],
   "source": []
  }
 ],
 "metadata": {
  "kernelspec": {
   "display_name": "Python [conda env:base] *",
   "language": "python",
   "name": "conda-base-py"
  },
  "language_info": {
   "codemirror_mode": {
    "name": "ipython",
    "version": 3
   },
   "file_extension": ".py",
   "mimetype": "text/x-python",
   "name": "python",
   "nbconvert_exporter": "python",
   "pygments_lexer": "ipython3",
   "version": "3.12.7"
  }
 },
 "nbformat": 4,
 "nbformat_minor": 5
}
